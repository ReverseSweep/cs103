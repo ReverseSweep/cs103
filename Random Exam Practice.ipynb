{
 "cells": [
  {
   "cell_type": "markdown",
   "metadata": {},
   "source": [
    "### Question 6  Function Design - Line Chart"
   ]
  },
  {
   "cell_type": "markdown",
   "metadata": {},
   "source": [
    "Consider a fictional social media coorpoeration named Owly. In Owly, users are able to post \"Chirps\" which are short text only messages. Other users are able to like and \"rechip\" other user's Chirps. Rechipping means taking another Chirp and adding it to their own list of Chirps.\n",
    "\n",
    "Given the following data definitions and functions, design a function that takes in a list of ChirpEngagements and a chirp id and displays a line chart of the total chirp engagements (number of rechirps + number of lifes) over the days sine the chirp was posted for the given chirp id. \n",
    "\n",
    "**Note that for a given Chirp, there can be multiple ChirpEngagements for a single day.** For example, if we want to find the all the number of likes for a given day, we must sum up all the likes inside all ChirpEngagements of that day\n",
    "\n",
    "hint: sort_and_combine_duplicates is useful"
   ]
  },
  {
   "cell_type": "code",
   "execution_count": 12,
   "metadata": {},
   "outputs": [
    {
     "name": "stdout",
     "output_type": "stream",
     "text": [
      "\u001b[92m10 of 10 tests passed\u001b[0m\n"
     ]
    }
   ],
   "source": [
    "from cs103 import *\n",
    "from typing import List, NamedTuple\n",
    "from matplotlib import pyplot\n",
    "\n",
    "Chirp = NamedTuple('Chirp', [('chirp_id', str),\n",
    "                             ('chirp_text', str)])\n",
    "# interp. a social media message with its id and text\n",
    "\n",
    "C1 = Chirp('1327929996502193803', 'UBC extends Winter Break!')\n",
    "C2 = Chirp('1227777797869645824', 'Snow expected in Vancouver.')\n",
    "\n",
    "# template rules used: compound\n",
    "def fn_for_chirp(c: Chirp) -> ...:\n",
    "    return ...(chirp_id,\n",
    "               chirp_text)\n",
    "\n",
    "\n",
    "ChirpEngagement = NamedTuple('ChirpEngagement', [('chirp', Chirp),\n",
    "                                                 ('days_after_chirp', int),\n",
    "                                                 ('num_rechirps', int),\n",
    "                                                 ('num_likes', int)])\n",
    "# interp. daily engagement via rechirps and likes with a chirp. days_after_chirp is the number of days\n",
    "#         since the chirp was posted online\n",
    "\n",
    "CE0 = ChirpEngagement(C1, 0, 5, 123)\n",
    "CE1 = ChirpEngagement(C1, 1, 9, 98)\n",
    "CE2 = ChirpEngagement(C1, 2, 2, 93)\n",
    "CE3 = ChirpEngagement(C1, 3, 4, 54)\n",
    "CE4 = ChirpEngagement(C1, 4, 2, 23)\n",
    "CE5 = ChirpEngagement(C1, 5, 1, 9)\n",
    "CE6 = ChirpEngagement(C2, 5, 1, 9)\n",
    "\n",
    "# tempate rules used: compound and the reference rule\n",
    "def fn_for_chirp_engagement(ce: ChirpEngagement) -> ...:\n",
    "    return ...(fn_for_chirp(ce.chirp),\n",
    "               days_after_chirp,\n",
    "               num_rechirps,\n",
    "               num_likes)\n",
    "\n",
    "\n",
    "# List[ChirpEngagment]\n",
    "# interp. a list of chirp engagements\n",
    "\n",
    "LOCE0 = []\n",
    "LOCE1 = [CE0, CE1, CE2, CE3, CE4, CE5]\n",
    "LOCE2 = [CE0, CE1, CE2, CE3, CE4, CE6]\n",
    "\n",
    "# template rules used: arbitrary-sized and the reference rule\n",
    "def fn_for_loce(loce: List[ChirpEngagement]) -> ...:\n",
    "    # description of the acc\n",
    "    acc = ... # type: ...\n",
    "    for ce in loce:\n",
    "        acc = ...(acc, fn_for_chirp_engagement(ce))\n",
    "    return ...(acc)\n",
    "\n",
    "\n",
    "\n",
    "@typecheck\n",
    "def sort_and_combine_duplicates(loce: List[ChirpEngagement]) -> List[ChirpEngagement]:\n",
    "    \"\"\"\n",
    "    combines engagement numbers for duplicate days in loce then sorts by days after chirp\n",
    "    and returns the result\n",
    "    \n",
    "    ASSUME: all elements from loce contain the same Chirp\n",
    "    \"\"\"\n",
    "    \n",
    "    acc = []\n",
    "    for ce in loce:\n",
    "        if has_day(acc, ce):\n",
    "            acc = combine_days(acc, ce)\n",
    "        else:\n",
    "            acc.append(ce)\n",
    "            \n",
    "    sorted_list = sorted(acc, key=get_days)\n",
    "    return sorted_list\n",
    "\n",
    "@typecheck\n",
    "def combine_days(loce: List[ChirpEngagement], ce: ChirpEngagement) -> List[ChirpEngagement]:\n",
    "    \"\"\"\n",
    "    return a list of chirp engagements that combines all chirps that match chirp_id with ce\n",
    "    \"\"\"\n",
    "    acc = []\n",
    "    for ce1 in loce:\n",
    "        if ce1.days_after_chirp == ce.days_after_chirp:\n",
    "            acc.append(ChirpEngagement(ce1.chirp, \n",
    "                                       ce1.days_after_chirp, \n",
    "                                       ce1.num_rechirps + ce.num_rechirps, \n",
    "                                       ce1.num_likes + ce.num_likes))\n",
    "        else:\n",
    "            acc.append(ce1)\n",
    "    return acc\n",
    "\n",
    "@typecheck\n",
    "def has_day(loce: List[ChirpEngagement], ce: ChirpEngagement) -> bool:\n",
    "    for ce1 in loce:\n",
    "        if ce1.days_after_chirp == ce.days_after_chirp:\n",
    "            return True\n",
    "    return False\n",
    "\n",
    "@typecheck\n",
    "def get_days(ce: ChirpEngagement) -> int:\n",
    "    return ce.days_after_chirp\n",
    "\n",
    "start_testing()\n",
    "\n",
    "expect(sort_and_combine_duplicates([]), [])\n",
    "expect(sort_and_combine_duplicates([CE2, CE1]), [CE1, CE2])\n",
    "expect(sort_and_combine_duplicates([CE5, CE3, CE1, CE2]), [CE1, CE2, CE3, CE5])\n",
    "expect(sort_and_combine_duplicates([ChirpEngagement(C1, 5, 2, 4), ChirpEngagement(C1, 5, 1, 7)]),\n",
    "      [ChirpEngagement(C1, 5, 3, 11)])\n",
    "expect(sort_and_combine_duplicates([ChirpEngagement(C1, 5, 5, 11), \n",
    "                                    ChirpEngagement(C1, 5, 2, 4), \n",
    "                                    ChirpEngagement(C1, 5, 1, 7)]),\n",
    "      [ChirpEngagement(C1, 5, 8, 22)])\n",
    "expect(sort_and_combine_duplicates([ChirpEngagement(C1, 5, 5, 11), \n",
    "                                    ChirpEngagement(C1, 3, 6, 12), \n",
    "                                    ChirpEngagement(C1, 5, 1, 7)]),\n",
    "      [ChirpEngagement(C1, 3, 6, 12), ChirpEngagement(C1, 5, 6, 18)])\n",
    "\n",
    "\n",
    "expect(has_day(LOCE1, ChirpEngagement(C1, 5, 1, 7)), True)\n",
    "expect(has_day(LOCE1, ChirpEngagement(C1, 9, 1, 7)), False)\n",
    "\n",
    "expect(combine_days([CE5], ChirpEngagement(C1, 5, 1, 7)), [ChirpEngagement(C1, 5, 2, 16)])\n",
    "expect(combine_days(LOCE1, ChirpEngagement(C1, 5, 1, 7)), [CE0, CE1, CE2, CE3, CE4, ChirpEngagement(C1, 5, 2, 16)])\n",
    "\n",
    "summary()\n"
   ]
  },
  {
   "cell_type": "code",
   "execution_count": null,
   "metadata": {},
   "outputs": [],
   "source": []
  },
  {
   "cell_type": "markdown",
   "metadata": {},
   "source": [
    "### Question 7 Function Design - More Rechirps"
   ]
  },
  {
   "cell_type": "markdown",
   "metadata": {},
   "source": [
    "Design a function that takes in a list of Chirp Engagements and calculates the percentage of Chirp Engagements that have more rechirps than likes"
   ]
  },
  {
   "cell_type": "code",
   "execution_count": null,
   "metadata": {},
   "outputs": [],
   "source": []
  }
 ],
 "metadata": {
  "kernelspec": {
   "display_name": "Python 3",
   "language": "python",
   "name": "python3"
  },
  "language_info": {
   "codemirror_mode": {
    "name": "ipython",
    "version": 3
   },
   "file_extension": ".py",
   "mimetype": "text/x-python",
   "name": "python",
   "nbconvert_exporter": "python",
   "pygments_lexer": "ipython3",
   "version": "3.8.6"
  }
 },
 "nbformat": 4,
 "nbformat_minor": 4
}
